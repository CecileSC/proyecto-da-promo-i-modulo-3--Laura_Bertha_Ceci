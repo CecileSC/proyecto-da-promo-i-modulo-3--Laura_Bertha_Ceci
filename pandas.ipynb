{
 "cells": [
  {
   "cell_type": "code",
   "execution_count": 31,
   "metadata": {},
   "outputs": [],
   "source": [
    "# importamos la pandas para poder trabajar en la lección\n",
    "import pandas as pd\n",
    "import numpy as np"
   ]
  },
  {
   "cell_type": "markdown",
   "metadata": {},
   "source": [
    "¿Qué diferencia hay entre una Serie y un DataFrame?\n",
    "\n",
    "una serie es unidimensional (solo una columna, similar a una lista) y el dataframe bidimensional(similar a una tabla) "
   ]
  },
  {
   "cell_type": "markdown",
   "metadata": {},
   "source": [
    "\n",
    "Momento de trabajar con Series. Contesta a las siguientes preguntas:\n",
    "\n",
    "Crea dos listas:\n",
    "\n",
    "Una que se llame \"valores\" que tenga 7 números aleatorios.\n",
    "\n",
    "Otra que se llame \"indices\" que tenga 7 strings que se llamen como los días de la semana."
   ]
  },
  {
   "cell_type": "code",
   "execution_count": 8,
   "metadata": {},
   "outputs": [
    {
     "data": {
      "text/plain": [
       "lunes         5\n",
       "martes        2\n",
       "miercoles     7\n",
       "jueves        6\n",
       "viernes       1\n",
       "sabado       12\n",
       "domingo      10\n",
       "dtype: int64"
      ]
     },
     "execution_count": 8,
     "metadata": {},
     "output_type": "execute_result"
    }
   ],
   "source": [
    "Valores = [5,2,7,6,1,12,10]\n",
    "Indices = ['lunes', 'martes', 'miercoles', 'jueves', 'viernes', 'sabado','domingo']\n",
    "\n",
    "# A partir de estas dos listas crea una Serie donde la variable \"valores\" sean los valores de la Serie y la variable indices sean los índices de la Serie.\n",
    "\n",
    "serie = pd.Series(Valores, index = Indices)\n",
    "\n",
    "serie\n"
   ]
  },
  {
   "cell_type": "code",
   "execution_count": 20,
   "metadata": {},
   "outputs": [
    {
     "data": {
      "text/plain": [
       "{'lunes': 5,\n",
       " 'martes': 2,\n",
       " 'miercoles': 7,\n",
       " 'jueves': 6,\n",
       " 'viernes': 1,\n",
       " 'sabado': 12,\n",
       " 'domingo': 10}"
      ]
     },
     "execution_count": 20,
     "metadata": {},
     "output_type": "execute_result"
    }
   ],
   "source": [
    "# A partir de las dos listas anteriores crea un diccionario usando un bucle for. Para hacer esto tenemos el método zip que nos permite iterar por dos listas a la vez. Más informción sobre este método aquí.\n",
    "Diccionario = {}\n",
    "\n",
    "for i, v in zip(Indices,Valores):\n",
    "    Diccionario[i] = v\n",
    "\n",
    "\n",
    "Diccionario\n",
    "\n",
    "\n",
    "\n"
   ]
  },
  {
   "cell_type": "code",
   "execution_count": 23,
   "metadata": {},
   "outputs": [
    {
     "name": "stdout",
     "output_type": "stream",
     "text": [
      "lunes         5\n",
      "martes        2\n",
      "miercoles     7\n",
      "jueves        6\n",
      "viernes       1\n",
      "sabado       12\n",
      "domingo      10\n",
      "dtype: int64\n",
      "--------------------------------------------\n",
      "(7,)\n",
      "--------------------------------------------\n",
      "int64\n",
      "--------------------------------------------\n",
      "7\n",
      "--------------------------------------------\n",
      "Index(['lunes', 'martes', 'miercoles', 'jueves', 'viernes', 'sabado',\n",
      "       'domingo'],\n",
      "      dtype='object')\n",
      "--------------------------------------------\n",
      "[ 5  2  7  6  1 12 10]\n"
     ]
    }
   ],
   "source": [
    "# Crea una Serie con el diccionario creado en el punto anterior.\n",
    "\n",
    "serie2 = pd.Series(Diccionario)\n",
    "\n",
    "print(serie2)\n",
    "\n",
    "print('--------------------------------------------')\n",
    "\n",
    "forma = serie2.shape\n",
    "print(forma)\n",
    "\n",
    "print('--------------------------------------------')\n",
    "\n",
    "tipo = serie2.dtype\n",
    "\n",
    "print(tipo)\n",
    "\n",
    "print('--------------------------------------------')\n",
    "\n",
    "size = serie2.size\n",
    "print(size)\n",
    "\n",
    "print('--------------------------------------------')\n",
    "\n",
    "indice = serie2.index\n",
    "print(indice)\n",
    "\n",
    "print('--------------------------------------------')\n",
    "\n",
    "valores = serie2.values\n",
    "print(valores)"
   ]
  },
  {
   "cell_type": "code",
   "execution_count": 24,
   "metadata": {},
   "outputs": [
    {
     "data": {
      "text/plain": [
       "5"
      ]
     },
     "execution_count": 24,
     "metadata": {},
     "output_type": "execute_result"
    }
   ],
   "source": [
    "# Extrae el valor para el índice \"lunes\"\n",
    "\n",
    "lunes = serie2['lunes']\n",
    "\n",
    "lunes"
   ]
  },
  {
   "cell_type": "code",
   "execution_count": 29,
   "metadata": {},
   "outputs": [
    {
     "data": {
      "text/plain": [
       "lunes        5\n",
       "martes       2\n",
       "miercoles    7\n",
       "dtype: int64"
      ]
     },
     "execution_count": 29,
     "metadata": {},
     "output_type": "execute_result"
    }
   ],
   "source": [
    "# Extrae el valor para el índice \"lunes\", \"martes\" y \"miércoles\".\n",
    "\n",
    "lmm = serie2[['lunes','martes','miercoles']]\n",
    "lmm"
   ]
  },
  {
   "cell_type": "code",
   "execution_count": 30,
   "metadata": {},
   "outputs": [
    {
     "data": {
      "text/plain": [
       "lunes       5\n",
       "domingo    10\n",
       "dtype: int64"
      ]
     },
     "execution_count": 30,
     "metadata": {},
     "output_type": "execute_result"
    }
   ],
   "source": [
    "# Extrae el valor para el índice \"lunes\" y \"domingo\".\n",
    "\n",
    "lmm = serie2[['lunes','domingo']]\n",
    "lmm"
   ]
  },
  {
   "cell_type": "markdown",
   "metadata": {},
   "source": [
    "\n",
    "Es el turno de los DataFrames\n",
    "\n",
    "Crea un array de dos dimensiones con 4 filas y 3 columnas.\n",
    "\n",
    "Convierte el array en un DataFrame donde las columnas se llamen \"España\", \"Francia\" e \"Italia\".\n",
    "\n",
    "Descarga el archivo \"medallas\" y carga el DataFrame.\n",
    "\n",
    "Usando el loc extrae todas las columnas de la fila de Tailandia.\n",
    "\n",
    "Usando el loc extrae todas las columnas de China e Irán.\n",
    "\n",
    "Usando el loc extrae solo las columnas de \"Oro\", \"Plata\" y \"Bronce\" de China e Irán.\n",
    "\n",
    "Usando el iloc extrae la información de la India. Devolved todas las columnas.\n",
    "\n",
    "Usando el iloc extrae todas las columnas de los paises que estén en posición impar. La primera que nos tendría que salir es Japón y la última Corea del Norte.\n",
    "\n",
    "Utilizando el código del ejercicio anterior, selecciona unicamente las columnas \"Oro\", \"Plata\" y \"Bronce\".\n",
    "\n",
    "Contesta a las siguientes preguntas:\n",
    "\n",
    "¿Qué país consiguió más de 200 medallas de oro?\n",
    "\n",
    "¿Qué país consiguió más de 200 medallas de oro y más de 1000 de plata?\n",
    "\n",
    "¿Qué país consiguió más de 200 medallas de oro o más de 700 de bronce?\n",
    "\n",
    "Crea una nueva columma que se llame \"total\" que sea el resultado de la suma de todas las medallas obtenidas por cada país."
   ]
  },
  {
   "cell_type": "code",
   "execution_count": 34,
   "metadata": {},
   "outputs": [
    {
     "data": {
      "text/plain": [
       "array([[20, 17, 33],\n",
       "       [33, 16, 21],\n",
       "       [22, 34, 23],\n",
       "       [28, 49, 39]])"
      ]
     },
     "execution_count": 34,
     "metadata": {},
     "output_type": "execute_result"
    }
   ],
   "source": [
    "# Crea un array de dos dimensiones con 4 filas y 3 columnas.\n",
    "\n",
    "arrayb = np.random.randint(0, 50, (4,3))\n",
    "arrayb"
   ]
  },
  {
   "cell_type": "code",
   "execution_count": 35,
   "metadata": {},
   "outputs": [
    {
     "data": {
      "text/html": [
       "<div>\n",
       "<style scoped>\n",
       "    .dataframe tbody tr th:only-of-type {\n",
       "        vertical-align: middle;\n",
       "    }\n",
       "\n",
       "    .dataframe tbody tr th {\n",
       "        vertical-align: top;\n",
       "    }\n",
       "\n",
       "    .dataframe thead th {\n",
       "        text-align: right;\n",
       "    }\n",
       "</style>\n",
       "<table border=\"1\" class=\"dataframe\">\n",
       "  <thead>\n",
       "    <tr style=\"text-align: right;\">\n",
       "      <th></th>\n",
       "      <th>españa</th>\n",
       "      <th>francia</th>\n",
       "      <th>italia</th>\n",
       "    </tr>\n",
       "  </thead>\n",
       "  <tbody>\n",
       "    <tr>\n",
       "      <th>0</th>\n",
       "      <td>20</td>\n",
       "      <td>17</td>\n",
       "      <td>33</td>\n",
       "    </tr>\n",
       "    <tr>\n",
       "      <th>1</th>\n",
       "      <td>33</td>\n",
       "      <td>16</td>\n",
       "      <td>21</td>\n",
       "    </tr>\n",
       "    <tr>\n",
       "      <th>2</th>\n",
       "      <td>22</td>\n",
       "      <td>34</td>\n",
       "      <td>23</td>\n",
       "    </tr>\n",
       "    <tr>\n",
       "      <th>3</th>\n",
       "      <td>28</td>\n",
       "      <td>49</td>\n",
       "      <td>39</td>\n",
       "    </tr>\n",
       "  </tbody>\n",
       "</table>\n",
       "</div>"
      ],
      "text/plain": [
       "   españa  francia  italia\n",
       "0      20       17      33\n",
       "1      33       16      21\n",
       "2      22       34      23\n",
       "3      28       49      39"
      ]
     },
     "execution_count": 35,
     "metadata": {},
     "output_type": "execute_result"
    }
   ],
   "source": [
    "# Convierte el array en un DataFrame donde las columnas se llamen \"España\", \"Francia\" e \"Italia\".\n",
    "\n",
    "df = pd.DataFrame(arrayb, columns= ['españa', 'francia', 'italia'])\n",
    "\n",
    "df\n"
   ]
  },
  {
   "cell_type": "code",
   "execution_count": 36,
   "metadata": {},
   "outputs": [
    {
     "data": {
      "text/html": [
       "<div>\n",
       "<style scoped>\n",
       "    .dataframe tbody tr th:only-of-type {\n",
       "        vertical-align: middle;\n",
       "    }\n",
       "\n",
       "    .dataframe tbody tr th {\n",
       "        vertical-align: top;\n",
       "    }\n",
       "\n",
       "    .dataframe thead th {\n",
       "        text-align: right;\n",
       "    }\n",
       "</style>\n",
       "<table border=\"1\" class=\"dataframe\">\n",
       "  <thead>\n",
       "    <tr style=\"text-align: right;\">\n",
       "      <th></th>\n",
       "      <th>Unnamed: 0</th>\n",
       "      <th>País</th>\n",
       "      <th>Oro</th>\n",
       "      <th>Plata</th>\n",
       "      <th>Bronce</th>\n",
       "    </tr>\n",
       "  </thead>\n",
       "  <tbody>\n",
       "    <tr>\n",
       "      <th>0</th>\n",
       "      <td>1</td>\n",
       "      <td>China</td>\n",
       "      <td>1473</td>\n",
       "      <td>994</td>\n",
       "      <td>720</td>\n",
       "    </tr>\n",
       "    <tr>\n",
       "      <th>1</th>\n",
       "      <td>2</td>\n",
       "      <td>Japón</td>\n",
       "      <td>1032</td>\n",
       "      <td>1037</td>\n",
       "      <td>985</td>\n",
       "    </tr>\n",
       "    <tr>\n",
       "      <th>2</th>\n",
       "      <td>3</td>\n",
       "      <td>Corea del Sur</td>\n",
       "      <td>745</td>\n",
       "      <td>663</td>\n",
       "      <td>827</td>\n",
       "    </tr>\n",
       "    <tr>\n",
       "      <th>3</th>\n",
       "      <td>4</td>\n",
       "      <td>Irán</td>\n",
       "      <td>179</td>\n",
       "      <td>181</td>\n",
       "      <td>197</td>\n",
       "    </tr>\n",
       "    <tr>\n",
       "      <th>4</th>\n",
       "      <td>5</td>\n",
       "      <td>Kazajistán</td>\n",
       "      <td>155</td>\n",
       "      <td>158</td>\n",
       "      <td>224</td>\n",
       "    </tr>\n",
       "    <tr>\n",
       "      <th>5</th>\n",
       "      <td>6</td>\n",
       "      <td>India</td>\n",
       "      <td>154</td>\n",
       "      <td>202</td>\n",
       "      <td>315</td>\n",
       "    </tr>\n",
       "    <tr>\n",
       "      <th>6</th>\n",
       "      <td>7</td>\n",
       "      <td>Tailandia</td>\n",
       "      <td>132</td>\n",
       "      <td>175</td>\n",
       "      <td>278</td>\n",
       "    </tr>\n",
       "    <tr>\n",
       "      <th>7</th>\n",
       "      <td>8</td>\n",
       "      <td>Indonesia</td>\n",
       "      <td>112</td>\n",
       "      <td>131</td>\n",
       "      <td>240</td>\n",
       "    </tr>\n",
       "    <tr>\n",
       "      <th>8</th>\n",
       "      <td>9</td>\n",
       "      <td>China Taipéi</td>\n",
       "      <td>99</td>\n",
       "      <td>144</td>\n",
       "      <td>276</td>\n",
       "    </tr>\n",
       "    <tr>\n",
       "      <th>9</th>\n",
       "      <td>10</td>\n",
       "      <td>Corea del Norte</td>\n",
       "      <td>91</td>\n",
       "      <td>120</td>\n",
       "      <td>235</td>\n",
       "    </tr>\n",
       "  </tbody>\n",
       "</table>\n",
       "</div>"
      ],
      "text/plain": [
       "   Unnamed: 0             País   Oro  Plata  Bronce\n",
       "0           1            China  1473    994     720\n",
       "1           2            Japón  1032   1037     985\n",
       "2           3    Corea del Sur   745    663     827\n",
       "3           4             Irán   179    181     197\n",
       "4           5       Kazajistán   155    158     224\n",
       "5           6            India   154    202     315\n",
       "6           7        Tailandia   132    175     278\n",
       "7           8        Indonesia   112    131     240\n",
       "8           9     China Taipéi    99    144     276\n",
       "9          10  Corea del Norte    91    120     235"
      ]
     },
     "execution_count": 36,
     "metadata": {},
     "output_type": "execute_result"
    }
   ],
   "source": [
    "# Descarga el archivo \"medallas\" y carga el DataFrame.\n",
    "\n",
    "df_medallas = pd.read_csv('medallas.csv')\n",
    "df_medallas"
   ]
  },
  {
   "cell_type": "code",
   "execution_count": 43,
   "metadata": {},
   "outputs": [
    {
     "data": {
      "text/plain": [
       "Unnamed: 0            7\n",
       "País          Tailandia\n",
       "Oro                 132\n",
       "Plata               175\n",
       "Bronce              278\n",
       "Name: 6, dtype: object"
      ]
     },
     "execution_count": 43,
     "metadata": {},
     "output_type": "execute_result"
    }
   ],
   "source": [
    "# Usando el loc extrae todas las columnas de la fila de Tailandia.\n",
    "\n",
    "resultado = df_medallas.loc[6,]\n",
    "resultado"
   ]
  },
  {
   "cell_type": "code",
   "execution_count": 44,
   "metadata": {},
   "outputs": [
    {
     "data": {
      "text/html": [
       "<div>\n",
       "<style scoped>\n",
       "    .dataframe tbody tr th:only-of-type {\n",
       "        vertical-align: middle;\n",
       "    }\n",
       "\n",
       "    .dataframe tbody tr th {\n",
       "        vertical-align: top;\n",
       "    }\n",
       "\n",
       "    .dataframe thead th {\n",
       "        text-align: right;\n",
       "    }\n",
       "</style>\n",
       "<table border=\"1\" class=\"dataframe\">\n",
       "  <thead>\n",
       "    <tr style=\"text-align: right;\">\n",
       "      <th></th>\n",
       "      <th>Unnamed: 0</th>\n",
       "      <th>País</th>\n",
       "      <th>Oro</th>\n",
       "      <th>Plata</th>\n",
       "      <th>Bronce</th>\n",
       "    </tr>\n",
       "  </thead>\n",
       "  <tbody>\n",
       "    <tr>\n",
       "      <th>0</th>\n",
       "      <td>1</td>\n",
       "      <td>China</td>\n",
       "      <td>1473</td>\n",
       "      <td>994</td>\n",
       "      <td>720</td>\n",
       "    </tr>\n",
       "    <tr>\n",
       "      <th>3</th>\n",
       "      <td>4</td>\n",
       "      <td>Irán</td>\n",
       "      <td>179</td>\n",
       "      <td>181</td>\n",
       "      <td>197</td>\n",
       "    </tr>\n",
       "  </tbody>\n",
       "</table>\n",
       "</div>"
      ],
      "text/plain": [
       "   Unnamed: 0   País   Oro  Plata  Bronce\n",
       "0           1  China  1473    994     720\n",
       "3           4   Irán   179    181     197"
      ]
     },
     "execution_count": 44,
     "metadata": {},
     "output_type": "execute_result"
    }
   ],
   "source": [
    "# Usando el loc extrae todas las columnas de China e Irán.\n",
    "\n",
    "resultado2 = df_medallas.loc[[0,3],]\n",
    "\n",
    "resultado2"
   ]
  },
  {
   "cell_type": "code",
   "execution_count": 45,
   "metadata": {},
   "outputs": [
    {
     "data": {
      "text/html": [
       "<div>\n",
       "<style scoped>\n",
       "    .dataframe tbody tr th:only-of-type {\n",
       "        vertical-align: middle;\n",
       "    }\n",
       "\n",
       "    .dataframe tbody tr th {\n",
       "        vertical-align: top;\n",
       "    }\n",
       "\n",
       "    .dataframe thead th {\n",
       "        text-align: right;\n",
       "    }\n",
       "</style>\n",
       "<table border=\"1\" class=\"dataframe\">\n",
       "  <thead>\n",
       "    <tr style=\"text-align: right;\">\n",
       "      <th></th>\n",
       "      <th>Oro</th>\n",
       "      <th>Plata</th>\n",
       "      <th>Bronce</th>\n",
       "    </tr>\n",
       "  </thead>\n",
       "  <tbody>\n",
       "    <tr>\n",
       "      <th>0</th>\n",
       "      <td>1473</td>\n",
       "      <td>994</td>\n",
       "      <td>720</td>\n",
       "    </tr>\n",
       "    <tr>\n",
       "      <th>3</th>\n",
       "      <td>179</td>\n",
       "      <td>181</td>\n",
       "      <td>197</td>\n",
       "    </tr>\n",
       "  </tbody>\n",
       "</table>\n",
       "</div>"
      ],
      "text/plain": [
       "    Oro  Plata  Bronce\n",
       "0  1473    994     720\n",
       "3   179    181     197"
      ]
     },
     "execution_count": 45,
     "metadata": {},
     "output_type": "execute_result"
    }
   ],
   "source": [
    "# Usando el loc extrae solo las columnas de \"Oro\", \"Plata\" y \"Bronce\" de China e Irán.\n",
    "\n",
    "resultado3 = df_medallas.loc[[0,3],['Oro', 'Plata', 'Bronce']]\n",
    "\n",
    "resultado3"
   ]
  },
  {
   "cell_type": "code",
   "execution_count": 46,
   "metadata": {},
   "outputs": [
    {
     "data": {
      "text/plain": [
       "Unnamed: 0        6\n",
       "País          India\n",
       "Oro             154\n",
       "Plata           202\n",
       "Bronce          315\n",
       "Name: 5, dtype: object"
      ]
     },
     "execution_count": 46,
     "metadata": {},
     "output_type": "execute_result"
    }
   ],
   "source": [
    "# Usando el iloc extrae la información de la India. Devolved todas las columnas.\n",
    "\n",
    "resultado3 = df_medallas.iloc[5,]\n",
    "\n",
    "resultado3"
   ]
  },
  {
   "cell_type": "code",
   "execution_count": 47,
   "metadata": {},
   "outputs": [
    {
     "data": {
      "text/html": [
       "<div>\n",
       "<style scoped>\n",
       "    .dataframe tbody tr th:only-of-type {\n",
       "        vertical-align: middle;\n",
       "    }\n",
       "\n",
       "    .dataframe tbody tr th {\n",
       "        vertical-align: top;\n",
       "    }\n",
       "\n",
       "    .dataframe thead th {\n",
       "        text-align: right;\n",
       "    }\n",
       "</style>\n",
       "<table border=\"1\" class=\"dataframe\">\n",
       "  <thead>\n",
       "    <tr style=\"text-align: right;\">\n",
       "      <th></th>\n",
       "      <th>Unnamed: 0</th>\n",
       "      <th>País</th>\n",
       "      <th>Oro</th>\n",
       "      <th>Plata</th>\n",
       "      <th>Bronce</th>\n",
       "    </tr>\n",
       "  </thead>\n",
       "  <tbody>\n",
       "    <tr>\n",
       "      <th>1</th>\n",
       "      <td>2</td>\n",
       "      <td>Japón</td>\n",
       "      <td>1032</td>\n",
       "      <td>1037</td>\n",
       "      <td>985</td>\n",
       "    </tr>\n",
       "    <tr>\n",
       "      <th>3</th>\n",
       "      <td>4</td>\n",
       "      <td>Irán</td>\n",
       "      <td>179</td>\n",
       "      <td>181</td>\n",
       "      <td>197</td>\n",
       "    </tr>\n",
       "    <tr>\n",
       "      <th>5</th>\n",
       "      <td>6</td>\n",
       "      <td>India</td>\n",
       "      <td>154</td>\n",
       "      <td>202</td>\n",
       "      <td>315</td>\n",
       "    </tr>\n",
       "    <tr>\n",
       "      <th>7</th>\n",
       "      <td>8</td>\n",
       "      <td>Indonesia</td>\n",
       "      <td>112</td>\n",
       "      <td>131</td>\n",
       "      <td>240</td>\n",
       "    </tr>\n",
       "    <tr>\n",
       "      <th>9</th>\n",
       "      <td>10</td>\n",
       "      <td>Corea del Norte</td>\n",
       "      <td>91</td>\n",
       "      <td>120</td>\n",
       "      <td>235</td>\n",
       "    </tr>\n",
       "  </tbody>\n",
       "</table>\n",
       "</div>"
      ],
      "text/plain": [
       "   Unnamed: 0             País   Oro  Plata  Bronce\n",
       "1           2            Japón  1032   1037     985\n",
       "3           4             Irán   179    181     197\n",
       "5           6            India   154    202     315\n",
       "7           8        Indonesia   112    131     240\n",
       "9          10  Corea del Norte    91    120     235"
      ]
     },
     "execution_count": 47,
     "metadata": {},
     "output_type": "execute_result"
    }
   ],
   "source": [
    "# Usando el iloc extrae todas las columnas de los paises que estén en posición impar. La primera que nos tendría que salir es Japón y la última Corea del Norte.\n",
    "\n",
    "\n",
    "\n",
    "resultado3 = df_medallas.iloc[1::2,]\n",
    "\n",
    "resultado3\n",
    " "
   ]
  },
  {
   "cell_type": "code",
   "execution_count": 48,
   "metadata": {},
   "outputs": [
    {
     "data": {
      "text/html": [
       "<div>\n",
       "<style scoped>\n",
       "    .dataframe tbody tr th:only-of-type {\n",
       "        vertical-align: middle;\n",
       "    }\n",
       "\n",
       "    .dataframe tbody tr th {\n",
       "        vertical-align: top;\n",
       "    }\n",
       "\n",
       "    .dataframe thead th {\n",
       "        text-align: right;\n",
       "    }\n",
       "</style>\n",
       "<table border=\"1\" class=\"dataframe\">\n",
       "  <thead>\n",
       "    <tr style=\"text-align: right;\">\n",
       "      <th></th>\n",
       "      <th>Oro</th>\n",
       "      <th>Plata</th>\n",
       "      <th>Bronce</th>\n",
       "    </tr>\n",
       "  </thead>\n",
       "  <tbody>\n",
       "    <tr>\n",
       "      <th>1</th>\n",
       "      <td>1032</td>\n",
       "      <td>1037</td>\n",
       "      <td>985</td>\n",
       "    </tr>\n",
       "    <tr>\n",
       "      <th>3</th>\n",
       "      <td>179</td>\n",
       "      <td>181</td>\n",
       "      <td>197</td>\n",
       "    </tr>\n",
       "    <tr>\n",
       "      <th>5</th>\n",
       "      <td>154</td>\n",
       "      <td>202</td>\n",
       "      <td>315</td>\n",
       "    </tr>\n",
       "    <tr>\n",
       "      <th>7</th>\n",
       "      <td>112</td>\n",
       "      <td>131</td>\n",
       "      <td>240</td>\n",
       "    </tr>\n",
       "    <tr>\n",
       "      <th>9</th>\n",
       "      <td>91</td>\n",
       "      <td>120</td>\n",
       "      <td>235</td>\n",
       "    </tr>\n",
       "  </tbody>\n",
       "</table>\n",
       "</div>"
      ],
      "text/plain": [
       "    Oro  Plata  Bronce\n",
       "1  1032   1037     985\n",
       "3   179    181     197\n",
       "5   154    202     315\n",
       "7   112    131     240\n",
       "9    91    120     235"
      ]
     },
     "execution_count": 48,
     "metadata": {},
     "output_type": "execute_result"
    }
   ],
   "source": [
    "# Utilizando el código del ejercicio anterior, selecciona unicamente las columnas \"Oro\", \"Plata\" y \"Bronce\".\n",
    "\n",
    "resultado3 = df_medallas.iloc[1::2,[2,3,4]]\n",
    "\n",
    "resultado3"
   ]
  },
  {
   "cell_type": "code",
   "execution_count": 55,
   "metadata": {},
   "outputs": [
    {
     "data": {
      "text/html": [
       "<div>\n",
       "<style scoped>\n",
       "    .dataframe tbody tr th:only-of-type {\n",
       "        vertical-align: middle;\n",
       "    }\n",
       "\n",
       "    .dataframe tbody tr th {\n",
       "        vertical-align: top;\n",
       "    }\n",
       "\n",
       "    .dataframe thead th {\n",
       "        text-align: right;\n",
       "    }\n",
       "</style>\n",
       "<table border=\"1\" class=\"dataframe\">\n",
       "  <thead>\n",
       "    <tr style=\"text-align: right;\">\n",
       "      <th></th>\n",
       "      <th>Unnamed: 0</th>\n",
       "      <th>País</th>\n",
       "      <th>Oro</th>\n",
       "      <th>Plata</th>\n",
       "      <th>Bronce</th>\n",
       "    </tr>\n",
       "  </thead>\n",
       "  <tbody>\n",
       "    <tr>\n",
       "      <th>1</th>\n",
       "      <td>2</td>\n",
       "      <td>Japón</td>\n",
       "      <td>1032</td>\n",
       "      <td>1037</td>\n",
       "      <td>985</td>\n",
       "    </tr>\n",
       "  </tbody>\n",
       "</table>\n",
       "</div>"
      ],
      "text/plain": [
       "   Unnamed: 0   País   Oro  Plata  Bronce\n",
       "1           2  Japón  1032   1037     985"
      ]
     },
     "execution_count": 55,
     "metadata": {},
     "output_type": "execute_result"
    }
   ],
   "source": [
    "#Contesta a las siguientes preguntas:\n",
    "\n",
    "#¿Qué país consiguió más de 200 medallas de oro?\n",
    "\n",
    "nummedallas = df_medallas[df_medallas['Oro'] > 200]\n",
    "\n",
    "nummedallas\n",
    "\n",
    "#¿Qué país consiguió más de 200 medallas de oro y más de 1000 de plata?\n",
    "\n",
    "nummedallas2 = df_medallas[(df_medallas['Oro'] > 200) & (df_medallas['Plata'] > 1000)]\n",
    "\n",
    "nummedallas2\n",
    "\n",
    "#¿Qué país consiguió más de 200 medallas de oro o más de 700 de bronce?\n",
    "\n",
    "#Crea una nueva columma que se llame \"total\" que sea el resultado de la suma de todas las medallas obtenidas por cada país."
   ]
  }
 ],
 "metadata": {
  "kernelspec": {
   "display_name": "Python 3",
   "language": "python",
   "name": "python3"
  },
  "language_info": {
   "codemirror_mode": {
    "name": "ipython",
    "version": 3
   },
   "file_extension": ".py",
   "mimetype": "text/x-python",
   "name": "python",
   "nbconvert_exporter": "python",
   "pygments_lexer": "ipython3",
   "version": "3.11.7"
  }
 },
 "nbformat": 4,
 "nbformat_minor": 2
}
