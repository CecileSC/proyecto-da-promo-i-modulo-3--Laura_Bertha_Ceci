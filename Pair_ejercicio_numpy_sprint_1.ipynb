{
 "cells": [
  {
   "cell_type": "code",
   "execution_count": 2,
   "metadata": {},
   "outputs": [],
   "source": [
    "import numpy as np"
   ]
  },
  {
   "cell_type": "code",
   "execution_count": 3,
   "metadata": {},
   "outputs": [
    {
     "name": "stdout",
     "output_type": "stream",
     "text": [
      "[44 50 63 32 69 36 29 38 78 47 81 55 37 75 48 63 48 88 70 16 23 76 54 55\n",
      " 53 50 36 53 42 47 67 49 97 38 42 48 14 72 45 86 10 40 25 39 88 29 57 75\n",
      " 78 78]\n"
     ]
    },
    {
     "data": {
      "text/plain": [
       "array([69, 47, 48, 16, 53, 47, 42, 86, 88, 78])"
      ]
     },
     "execution_count": 3,
     "metadata": {},
     "output_type": "execute_result"
    }
   ],
   "source": [
    "\n",
    "\n",
    "#Pair Numpy\n",
    "# Creación y Indexación:\n",
    "# 1- Crea un array 1D con 50 valores aleatorio del 10 al 99. Accede a los elementos en las posiciones múltiplos de 5.\n",
    "\n",
    "mult = np.random.randint(10, 99, 50)\n",
    "print(mult)\n",
    "mult [4::5]\n",
    "\n",
    "\n",
    "\n"
   ]
  },
  {
   "cell_type": "code",
   "execution_count": 4,
   "metadata": {},
   "outputs": [
    {
     "name": "stdout",
     "output_type": "stream",
     "text": [
      "[ 0 12  1  1  9 12  7 15  1 12 14 13 14  1  3 16 14 17 16 19 19  0  1  9\n",
      "  5 17 20 10 10 14]\n"
     ]
    },
    {
     "data": {
      "text/plain": [
       "array([ 0,  1,  9,  7,  1, 14, 14,  3, 14, 16, 19,  1,  5, 20, 10])"
      ]
     },
     "execution_count": 4,
     "metadata": {},
     "output_type": "execute_result"
    }
   ],
   "source": [
    "\n",
    "#2-Crea un array 1D con 30 valores del 1 al 20 (ambos incluidos). \n",
    "# Utiliza indexación para obtener los elementos en las posiciones impares.\n",
    "\n",
    "mult1 = np.random.randint(0, 21, 30)\n",
    "print(mult1)\n",
    "mult1[::2]\n",
    "\n"
   ]
  },
  {
   "cell_type": "code",
   "execution_count": 5,
   "metadata": {},
   "outputs": [
    {
     "name": "stdout",
     "output_type": "stream",
     "text": [
      "[[0.72649751 0.46760738 0.70738869 0.45987736 0.54438561 0.85223479]\n",
      " [0.22668952 0.22859607 0.85539763 0.45327295 0.34631263 0.64346601]\n",
      " [0.09493933 0.35954098 0.81747994 0.36012158 0.42671748 0.89489192]\n",
      " [0.48607269 0.90628097 0.61977982 0.75261897 0.15789426 0.12886392]]\n"
     ]
    },
    {
     "data": {
      "text/plain": [
       "array([0.49, 0.91, 0.62, 0.75, 0.16, 0.13])"
      ]
     },
     "execution_count": 5,
     "metadata": {},
     "output_type": "execute_result"
    }
   ],
   "source": [
    "#3- Crea un array 2D de forma (4, 6) con números aleatorios decimales (no deben estar comprendidos solo entre 0 y 1).\n",
    "#  Accede a la última fila de la matriz. Los decimales deben estar redondeados a 2 decimales.\n",
    "\n",
    "decim = np.random.rand(4,6)\n",
    "print(decim)\n",
    "decim[3]\n",
    "decim[3].round(2)"
   ]
  },
  {
   "cell_type": "code",
   "execution_count": 50,
   "metadata": {},
   "outputs": [
    {
     "name": "stdout",
     "output_type": "stream",
     "text": [
      "[[[31 76 67 46 14]\n",
      "  [ 7 49  0 30 35]\n",
      "  [60 86 33  9 93]]\n",
      "\n",
      " [[41 76 66 55 18]\n",
      "  [95 62 15 17 40]\n",
      "  [99 71 16 44 40]]]\n"
     ]
    },
    {
     "data": {
      "text/plain": [
       "array([[[31, 76,  0, 46, 14],\n",
       "        [ 7, 49,  0, 30, 35],\n",
       "        [60, 86,  0,  9, 93]],\n",
       "\n",
       "       [[41, 76,  0, 55, 18],\n",
       "        [95, 62,  0, 17, 40],\n",
       "        [99, 71,  0, 44, 40]]])"
      ]
     },
     "execution_count": 50,
     "metadata": {},
     "output_type": "execute_result"
    }
   ],
   "source": [
    "#4- BONUS: Crea un array 3D de forma (2, 3, 5) y 30 elementos con números enteros entre 0 y 100 (ambos incluidos).\n",
    "#  Reemplaza los elementos en posiciones múltiplos de 3 por 0.\n",
    "mult1 = np.random.randint(0, 101,(2,3,5))\n",
    "print(mult1)\n",
    "\n",
    "\n",
    "for i in range(0,2):\n",
    "    for e in range(0,3):\n",
    "        mult1[i,e,2] = 0\n",
    "           \n",
    "        \n",
    "mult1\n"
   ]
  },
  {
   "cell_type": "code",
   "execution_count": null,
   "metadata": {},
   "outputs": [],
   "source": [
    "# Reshape y Transpose:\n",
    "# Ejercicios con reshape:\n",
    "# Crea un array 3D de forma (2, 3, 4) con valores aleatorios entre 1 y 100 (ambos inclusive).\n",
    "#  Utiliza reshape para convertirlo en un array 2D. Deberás pensar en la forma que es correcta para hacer este cambio.\n",
    "\n",
    "# Crea un array 3D de forma (3, 4, 5) con valores enteros del 1 al 61 (sin incluir). \n",
    "# Utiliza reshape para convertirlo en un array 2D."
   ]
  },
  {
   "cell_type": "code",
   "execution_count": 51,
   "metadata": {},
   "outputs": [
    {
     "name": "stdout",
     "output_type": "stream",
     "text": [
      "[[[42 87 20 16]\n",
      "  [88 35 56 53]\n",
      "  [32  2  1 27]]\n",
      "\n",
      " [[90 85 64 98]\n",
      "  [75 84 35 74]\n",
      "  [70 12  2 75]]]\n",
      "[[42 87 20 16 88 35 56 53 32  2  1 27]\n",
      " [90 85 64 98 75 84 35 74 70 12  2 75]]\n"
     ]
    }
   ],
   "source": [
    "\n",
    "# Crea un array 3D de forma (2, 3, 4) con valores aleatorios entre 1 y 100 (ambos inclusive).\n",
    "mresha = np.random.randint(0, 101,(2,3,4))\n",
    "print(mresha)\n",
    "\n",
    "mresha2 = mresha.reshape(2,12)\n",
    "print(mresha2)\n",
    "\n",
    "\n",
    "# Crea un array 3D de forma (3, 4, 5) con valores enteros del 1 al 61 (sin incluir). Utiliza reshape para convertirlo en un array 2D.\n",
    "mresha3 = np.random.randint(1, 61,(3,4,5))\n",
    "mresha32d = mresha3.reshape(2,30)\n",
    "\n",
    "\n",
    "\n"
   ]
  },
  {
   "cell_type": "code",
   "execution_count": 66,
   "metadata": {},
   "outputs": [
    {
     "data": {
      "text/plain": [
       "array([[[27, 40,  6, 48],\n",
       "        [56, 42, 44, 30],\n",
       "        [34, 32, 28,  7],\n",
       "        [26, 25, 52, 18],\n",
       "        [40,  9, 34, 14]],\n",
       "\n",
       "       [[39, 45,  9, 15],\n",
       "        [47, 38, 18, 32],\n",
       "        [ 4,  5,  6, 45],\n",
       "        [23, 34, 49, 45],\n",
       "        [11, 11, 55, 53]],\n",
       "\n",
       "       [[44, 40, 28, 38],\n",
       "        [ 5, 19, 31, 57],\n",
       "        [30, 29, 35, 45],\n",
       "        [18, 33, 31, 58],\n",
       "        [42, 60, 54, 54]]])"
      ]
     },
     "execution_count": 66,
     "metadata": {},
     "output_type": "execute_result"
    }
   ],
   "source": [
    "# Ejercicios con transpose:\n",
    "# Utiliza el array 3D del ejercicio 2 de reshape. Utiliza transpose para permutar los ejes y obtener un nuevo array con forma (5, 4, 3).\n",
    "mresha3 = np.random.randint(1, 61,(3,4,5))\n",
    "trans = np.transpose(mresha3, (2, 1, 0))\n",
    "trans\n",
    "\n",
    "# Utiliza el array 3D del ejercicio 2 de reshape. Utiliza transpose para cambiar el orden de los ejes y \n",
    "# obtener un nuevo array con forma (3, 5, 4).\n",
    "mresha3 = np.random.randint(1, 61,(3,4,5))\n",
    "trans2 = np.transpose(mresha3, (0,2,1))\n",
    "trans2\n"
   ]
  },
  {
   "cell_type": "code",
   "execution_count": null,
   "metadata": {},
   "outputs": [],
   "source": [
    "# Preguntas teóricas:\n",
    "# ¿Qué diferencia existe entre el reshape y el transpose?\n",
    "\n",
    "# ¿Y entre el transpose y el swapaxes?"
   ]
  },
  {
   "cell_type": "code",
   "execution_count": 75,
   "metadata": {},
   "outputs": [
    {
     "data": {
      "text/plain": [
       "array([[[0.2, 0.1, 0.1, 0.9, 0.3],\n",
       "        [0.2, 0.9, 0.3, 0.5, 0.7],\n",
       "        [0.6, 0.3, 0.9, 1. , 0.1]],\n",
       "\n",
       "       [[1. , 0.7, 0.5, 0.7, 0.2],\n",
       "        [0. , 0.3, 0.3, 0.3, 0. ],\n",
       "        [0.2, 0.4, 0.2, 0.8, 0.4]]])"
      ]
     },
     "execution_count": 75,
     "metadata": {},
     "output_type": "execute_result"
    }
   ],
   "source": [
    "# Funciones Aritméticas y Estadísticas:\n",
    "# Crea un array de tres 3D con elementos entre el 0 y 1 de forma (2, 3, 5) cuyos valores solo tengan 1 decimal.\n",
    "array3d = np.random.rand(2,3,5)\n",
    "r= array3d.round(1)\n",
    "r\n",
    "\n",
    "\n",
    "\n",
    "# Crea un array vacío con la misma forma y dimensiones que el array creado anteriormente. \n",
    "\n",
    "array3d2 = np.random.rand(2,3,5)\n",
    "\n",
    "# Vamos a reemplazar los valores de la matriz vacía que nos acabamos de crear pero basándonos \n",
    "# en los valores del primer array bajo las siguientes condiciones:\n",
    "\n",
    "# Si el valor del array es igual que la media, se reemplaza por \"A\".\n",
    "\n",
    "# Si el valor del array es mayor que la media, se reemplaza por \"B\".\n",
    "\n",
    "# Si el valor del array es menor que la media, se reemplaza por \"C\".\n",
    "\n",
    "# Si el valor es igual que el máximo, se reemplaza por \"D\".\n",
    "\n",
    "# Si el valor es igual que el mínimo, se reemplaza por \"E\".\n",
    "\n",
    "# Copy\n",
    "# # a modo de ejemplo. Si tenemos el siguiente array\n",
    "# [[[0.4, 0.7, 0.2, 0.9, 0.2],\n",
    "#     [0.1, 0.9, 0.6, 0.1, 0.2],\n",
    "#     [1. , 0.2, 0.1, 0.8, 0.3]],\n",
    "\n",
    "# [[0. , 0.3, 0.4, 0.5, 0.1],\n",
    "#     [0.5, 0.7, 0.9, 0. , 0.8],\n",
    "#     [0.5, 0.3, 0.5, 0.8, 0.1]]])\n",
    "\n",
    "# # sabiendo que la media es 0.4 y el máximo es 1.0 y el mínimo es 0.0\n",
    "\n",
    "# # nuestro array vacío debería quedar como este: \n",
    "# [[[\"A\", \"B\", \"C\", \"B\", \"C\"],\n",
    "#     [\"C\", \"B\", \"B\", \"C\", \"C\"],\n",
    "#     [\"D\" , \"C\", \"C\", \"B\", \"C\"]],\n",
    "\n",
    "# [[\"E\" , \"C\", \"A\", \"B\", \"C\"],\n",
    "#     [\"B\", \"B\",\"B\", \"E\" , \"B\"],\n",
    "#     [\"B\", \"C\", \"B\", \"B\", \"C\"]]])"
   ]
  }
 ],
 "metadata": {
  "kernelspec": {
   "display_name": "base",
   "language": "python",
   "name": "python3"
  },
  "language_info": {
   "codemirror_mode": {
    "name": "ipython",
    "version": 3
   },
   "file_extension": ".py",
   "mimetype": "text/x-python",
   "name": "python",
   "nbconvert_exporter": "python",
   "pygments_lexer": "ipython3",
   "version": "3.11.7"
  }
 },
 "nbformat": 4,
 "nbformat_minor": 2
}
