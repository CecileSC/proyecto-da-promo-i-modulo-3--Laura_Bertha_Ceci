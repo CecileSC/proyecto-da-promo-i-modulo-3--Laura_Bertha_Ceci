{
 "cells": [
  {
   "cell_type": "code",
   "execution_count": 5,
   "metadata": {},
   "outputs": [],
   "source": [
    "import numpy as np"
   ]
  },
  {
   "cell_type": "code",
   "execution_count": 12,
   "metadata": {},
   "outputs": [
    {
     "name": "stdout",
     "output_type": "stream",
     "text": [
      "[56 22 81 56 37 52 82 15 81 29 30 68 84 51 27 84 94 85 48 62 61 87 92 67\n",
      " 45 80 73 44 24 62 46 12 49 47 86 51 57 74 33 33 94 81 32 27 95 95 45 63\n",
      " 55 31]\n"
     ]
    },
    {
     "data": {
      "text/plain": [
       "array([37, 29, 27, 62, 45, 62, 86, 33, 95, 31])"
      ]
     },
     "execution_count": 12,
     "metadata": {},
     "output_type": "execute_result"
    }
   ],
   "source": [
    "\n",
    "\n",
    "#Pair Numpy\n",
    "# Creación y Indexación:\n",
    "# 1- Crea un array 1D con 50 valores aleatorio del 10 al 99. Accede a los elementos en las posiciones múltiplos de 5.\n",
    "\n",
    "mult = np.random.randint(10, 99, 50)\n",
    "print(mult)\n",
    "mult [4::5]\n",
    "\n",
    "\n",
    "\n"
   ]
  },
  {
   "cell_type": "code",
   "execution_count": 31,
   "metadata": {},
   "outputs": [
    {
     "name": "stdout",
     "output_type": "stream",
     "text": [
      "[ 7  3  2 11  2 11  5  1  0  4  6 15 11 14 20 15 15  2  4  0  8  5  0  4\n",
      "  9 15 12 10  1 17]\n"
     ]
    },
    {
     "data": {
      "text/plain": [
       "array([ 7,  2,  2,  5,  0,  6, 11, 20, 15,  4,  8,  0,  9, 12,  1])"
      ]
     },
     "execution_count": 31,
     "metadata": {},
     "output_type": "execute_result"
    }
   ],
   "source": [
    "\n",
    "#2-Crea un array 1D con 30 valores del 1 al 20 (ambos incluidos). \n",
    "# Utiliza indexación para obtener los elementos en las posiciones impares.\n",
    "\n",
    "mult1 = np.random.randint(0, 21, 30)\n",
    "print(mult1)\n",
    "mult1[::2]\n",
    "\n"
   ]
  },
  {
   "cell_type": "code",
   "execution_count": 32,
   "metadata": {},
   "outputs": [
    {
     "name": "stdout",
     "output_type": "stream",
     "text": [
      "[[0.51861647 0.58921663 0.29931011 0.44002187 0.21859905 0.6787488 ]\n",
      " [0.82452648 0.90238876 0.99810899 0.83974473 0.52449143 0.69749226]\n",
      " [0.15311988 0.1168334  0.05835078 0.93204969 0.57031968 0.11802038]\n",
      " [0.671459   0.51847816 0.06173118 0.68580276 0.48721305 0.13376774]]\n"
     ]
    },
    {
     "data": {
      "text/plain": [
       "array([0.67, 0.52, 0.06, 0.69, 0.49, 0.13])"
      ]
     },
     "execution_count": 32,
     "metadata": {},
     "output_type": "execute_result"
    }
   ],
   "source": [
    "#3- Crea un array 2D de forma (4, 6) con números aleatorios decimales (no deben estar comprendidos solo entre 0 y 1).\n",
    "#  Accede a la última fila de la matriz. Los decimales deben estar redondeados a 2 decimales.\n",
    "\n",
    "decim = np.random.rand(4,6)\n",
    "print(decim)\n",
    "decim[3]\n",
    "decim[3].round(2)"
   ]
  },
  {
   "cell_type": "code",
   "execution_count": 38,
   "metadata": {},
   "outputs": [
    {
     "name": "stdout",
     "output_type": "stream",
     "text": [
      "[[[53 85 89 21 56]\n",
      "  [56 34  5 34 48]\n",
      "  [83 32 74 14 27]]\n",
      "\n",
      " [[47 63 52 57 51]\n",
      "  [71 89 76 98 42]\n",
      "  [99 24 74 74 57]]]\n",
      "0\n"
     ]
    }
   ],
   "source": [
    "#4- BONUS: Crea un array 3D de forma (2, 3, 5) y 30 elementos con números enteros entre 0 y 100 (ambos incluidos).\n",
    "#  Reemplaza los elementos en posiciones múltiplos de 3 por 0.\n",
    "mult1 = np.random.randint(0, 101,(2,3,5))\n",
    "print(mult1)\n",
    "mult1[:,::3,:]\n",
    "reemplazar= mult1[::3] = 0\n",
    "print(reemplazar)"
   ]
  },
  {
   "cell_type": "code",
   "execution_count": null,
   "metadata": {},
   "outputs": [],
   "source": [
    "# Reshape y Transpose:\n",
    "# Ejercicios con reshape:\n",
    "# Crea un array 3D de forma (2, 3, 4) con valores aleatorios entre 1 y 100 (ambos inclusive).\n",
    "#  Utiliza reshape para convertirlo en un array 2D. Deberás pensar en la forma que es correcta para hacer este cambio.\n",
    "\n",
    "# Crea un array 3D de forma (3, 4, 5) con valores enteros del 1 al 61 (sin incluir). \n",
    "# Utiliza reshape para convertirlo en un array 2D."
   ]
  },
  {
   "cell_type": "code",
   "execution_count": null,
   "metadata": {},
   "outputs": [],
   "source": [
    "# Ejercicios con transpose:\n",
    "# Utiliza el array 3D del ejercicio 2 de reshape. Utiliza transpose para permutar los ejes y obtener un nuevo array con forma (5, 4, 3).\n",
    "\n",
    "# Utiliza el array 3D del ejercicio 2 de reshape. Utiliza transpose para cambiar el orden de los ejes y \n",
    "# obtener un nuevo array con forma (3, 5, 4)."
   ]
  },
  {
   "cell_type": "code",
   "execution_count": null,
   "metadata": {},
   "outputs": [],
   "source": [
    "# Preguntas teóricas:\n",
    "# ¿Qué diferencia existe entre el reshape y el transpose?\n",
    "\n",
    "# ¿Y entre el transpose y el swapaxes?"
   ]
  },
  {
   "cell_type": "code",
   "execution_count": null,
   "metadata": {},
   "outputs": [],
   "source": [
    "# Funciones Aritméticas y Estadísticas:\n",
    "# Crea un array de tres 3D con elementos entre el 0 y 1 de forma (2, 3, 5) cuyos valores solo tengan 1 decimal.\n",
    "\n",
    "# Crea un array vacío con la misma forma y dimensiones que el array creado anteriormente. \n",
    "# Vamos a reemplazar los valores de la matriz vacía que nos acabamos de crear pero basándonos \n",
    "# en los valores del primer array bajo las siguientes condiciones:\n",
    "\n",
    "# Si el valor del array es igual que la media, se reemplaza por \"A\".\n",
    "\n",
    "# Si el valor del array es mayor que la media, se reemplaza por \"B\".\n",
    "\n",
    "# Si el valor del array es menor que la media, se reemplaza por \"C\".\n",
    "\n",
    "# Si el valor es igual que el máximo, se reemplaza por \"D\".\n",
    "\n",
    "# Si el valor es igual que el mínimo, se reemplaza por \"E\".\n",
    "\n",
    "# Copy\n",
    "# # a modo de ejemplo. Si tenemos el siguiente array\n",
    "# [[[0.4, 0.7, 0.2, 0.9, 0.2],\n",
    "#     [0.1, 0.9, 0.6, 0.1, 0.2],\n",
    "#     [1. , 0.2, 0.1, 0.8, 0.3]],\n",
    "\n",
    "# [[0. , 0.3, 0.4, 0.5, 0.1],\n",
    "#     [0.5, 0.7, 0.9, 0. , 0.8],\n",
    "#     [0.5, 0.3, 0.5, 0.8, 0.1]]])\n",
    "\n",
    "# # sabiendo que la media es 0.4 y el máximo es 1.0 y el mínimo es 0.0\n",
    "\n",
    "# # nuestro array vacío debería quedar como este: \n",
    "# [[[\"A\", \"B\", \"C\", \"B\", \"C\"],\n",
    "#     [\"C\", \"B\", \"B\", \"C\", \"C\"],\n",
    "#     [\"D\" , \"C\", \"C\", \"B\", \"C\"]],\n",
    "\n",
    "# [[\"E\" , \"C\", \"A\", \"B\", \"C\"],\n",
    "#     [\"B\", \"B\",\"B\", \"E\" , \"B\"],\n",
    "#     [\"B\", \"C\", \"B\", \"B\", \"C\"]]])"
   ]
  }
 ],
 "metadata": {
  "kernelspec": {
   "display_name": "base",
   "language": "python",
   "name": "python3"
  },
  "language_info": {
   "codemirror_mode": {
    "name": "ipython",
    "version": 3
   },
   "file_extension": ".py",
   "mimetype": "text/x-python",
   "name": "python",
   "nbconvert_exporter": "python",
   "pygments_lexer": "ipython3",
   "version": "3.11.7"
  }
 },
 "nbformat": 4,
 "nbformat_minor": 2
}
